{
 "cells": [
  {
   "cell_type": "code",
   "execution_count": 10,
   "metadata": {},
   "outputs": [],
   "source": [
    "from os import listdir\n",
    "from os.path import isfile\n",
    "from json import load\n",
    "from shutil import rmtree\n",
    "from shutil import copytree\n",
    "from os import makedirs"
   ]
  },
  {
   "cell_type": "code",
   "execution_count": 11,
   "metadata": {},
   "outputs": [],
   "source": [
    "PASTA = \"requisicoes\"    \n",
    "ORDEM_DA_LUZ = 'ordem_da_luz'"
   ]
  },
  {
   "cell_type": "code",
   "execution_count": 12,
   "metadata": {},
   "outputs": [
    {
     "name": "stdout",
     "output_type": "stream",
     "text": [
      "total:  58255\n",
      "total respondidas:  58255\n",
      "total sem responder 0\n"
     ]
    }
   ],
   "source": [
    "total_respondidas = 0\n",
    "total_sem_responder  = 0\n",
    "duracoes = []\n",
    "for item in listdir(PASTA):\n",
    "    caminho = f'{PASTA}/{item}'\n",
    "    caminho_resposta = f'{caminho}/resposta.json'\n",
    " \n",
    "    if not isfile(caminho_resposta):\n",
    "        print(\"sem responder em: \", item)\n",
    "        total_sem_responder+=1\n",
    "        continue\n",
    "\n",
    "    total_respondidas+=1\n",
    "    with open(caminho_resposta,'r') as arq:\n",
    "        resposta = load(arq)\n",
    "    \n",
    "    inicio = resposta['inico']\n",
    "    fim = resposta['fim']\n",
    "    duracao = fim - inicio\n",
    "    duracoes.append(duracao)\n",
    "\n",
    "print('duracao mínima',min(duracao))\n",
    "print('duracao máxima',max(duracao))\n",
    "print('media',sum(duracao) /len(duracao))\n",
    "print(\"total: \", total_respondidas + total_sem_responder)\n",
    "print(\"total respondidas: \",total_respondidas)\n",
    "print(\"total sem responder\",total_sem_responder)\n"
   ]
  },
  {
   "cell_type": "code",
   "execution_count": 13,
   "metadata": {},
   "outputs": [],
   "source": [
    "valores_da_ordem_da_luz = []"
   ]
  },
  {
   "cell_type": "code",
   "execution_count": 14,
   "metadata": {},
   "outputs": [],
   "source": [
    "def modifica_num(valor,quantidade_max):\n",
    "    tamanho = len(str(valor))\n",
    "    total_0 = quantidade_max - tamanho\n",
    "    final = ''\n",
    "    for i in range(0,total_0):\n",
    "        final+='0'\n",
    "    final+=str(valor)\n",
    "    return final\n",
    "\n"
   ]
  },
  {
   "cell_type": "markdown",
   "metadata": {},
   "source": [
    "Organizando a ordem\n"
   ]
  },
  {
   "cell_type": "code",
   "execution_count": 15,
   "metadata": {},
   "outputs": [],
   "source": [
    "def gera_ordem_da_luz():\n",
    "    rmtree(ORDEM_DA_LUZ,ignore_errors=True)\n",
    "    makedirs(ORDEM_DA_LUZ)\n",
    "\n",
    "    listagem = listdir(PASTA)\n",
    "    for item in listagem:\n",
    "        caminho = f'{PASTA}/{item}'\n",
    "        caminho_resposta = f'{caminho}/resposta.json'\n",
    "        if not isfile(caminho_resposta):\n",
    "            continue\n",
    "\n",
    "        with open(caminho_resposta,'r') as arq:\n",
    "            respostas = load(arq)\n",
    "\n",
    "\n",
    "\n",
    "        caminho_request = f'{caminho}/request.json'\n",
    "        with open(caminho_request,'r') as arq:\n",
    "            request = load(arq)\n",
    "            \n",
    "        rota:str = request['rota']\n",
    "        rota_dividida = rota.split('/')\n",
    "        id_cliente = rota_dividida[2]\n",
    "\n",
    "        start_segundos = modifica_num(respostas[\"luz_adiquirida\"][\"segundos\"],10)\n",
    "        start_nano = modifica_num(respostas[\"luz_adiquirida\"][\"nanosegundos\"],10)\n",
    "\n",
    "        start = f'{start_segundos}:{start_nano}'\n",
    "\n",
    "        end = ''\n",
    "        if respostas.get('luz_liberada'):\n",
    "            end_segundos = modifica_num(respostas[\"luz_liberada\"][\"segundos\"],10)\n",
    "            end_nano = modifica_num(respostas[\"luz_liberada\"][\"nanosegundos\"],10)\n",
    "            end = f'{end_segundos}:{end_nano}'\n",
    "            \n",
    "        novo_caminho =  f'{ORDEM_DA_LUZ}/cliente:{id_cliente}:{start}=>{end}|{item}'\n",
    "        copytree(caminho,novo_caminho)\n",
    "        valores_da_ordem_da_luz.append(item)\n",
    "            \n",
    "\n"
   ]
  },
  {
   "cell_type": "code",
   "execution_count": 16,
   "metadata": {},
   "outputs": [],
   "source": [
    "clientes = {\n",
    "    \"1\":{\n",
    "        \"saldo\":0,\n",
    "        \"limite\":100000,\n",
    "    },\n",
    "    \"2\":{\n",
    "        \"saldo\":0,\n",
    "        \"limite\":80000\n",
    "    },\n",
    "    \"3\":{\n",
    "        \"saldo\":0,\n",
    "        \"limite\":1000000\n",
    "    },\n",
    "    \"4\":{\n",
    "        \"saldo\":0,\n",
    "        \"limite\":10000000\n",
    "    },\n",
    "    \"5\":{\n",
    "        \"saldo\":0,\n",
    "        \"limite\":500000\n",
    "    }\n",
    "}"
   ]
  },
  {
   "cell_type": "code",
   "execution_count": 17,
   "metadata": {},
   "outputs": [],
   "source": [
    "def plotar_ordem_da_luz():\n",
    "    ids = clientes.keys()\n",
    "    listagem = listdir(ORDEM_DA_LUZ)\n",
    "    listagem.sort()\n",
    "\n",
    "    for item in listagem:\n",
    "\n",
    "        caminho = f'{ORDEM_DA_LUZ}/{item}'\n",
    "        caminho_request = f'{caminho}/request.json'\n",
    "        with open(caminho_request,'r') as arq:\n",
    "            request = load(arq)\n",
    "        \n",
    "        caminho_resposta = f'{caminho}/resposta.json'\n",
    "        if not isfile(caminho_resposta):\n",
    "            raise Exception('aaaaaaa')\n",
    "        \n",
    "        rota:str = request['rota']\n",
    "\n",
    "        rota_dividida = rota.split('/')\n",
    "        id_cliente = rota_dividida[2]\n",
    "        if id_cliente not in ids:\n",
    "            continue\n",
    "        \n",
    "        cliente_atual = clientes[id_cliente]\n",
    "        \n",
    "        tipo_rota = rota_dividida[3]\n",
    "        if tipo_rota != 'transacoes':\n",
    "            continue\n",
    "\n",
    "        json_body = request['json_body']\n",
    "\n",
    "        if json_body['valor'] < 0:\n",
    "            continue\n",
    "        \n",
    "        if json_body['valor'].__class__ != int:\n",
    "            continue\n",
    "\n",
    "        if  not json_body.get('descricao'):\n",
    "            continue\n",
    "\n",
    "        if len(json_body['descricao']) == 0 or len(json_body['descricao'])> 10:\n",
    "            continue\n",
    "\n",
    "\n",
    "        if json_body['tipo'] == 'c':\n",
    "            cliente_atual['saldo'] += json_body['valor']\n",
    "\n",
    "        \n",
    "        if json_body['tipo'] == 'd':\n",
    "            saldo_full = cliente_atual['saldo']  + cliente_atual['limite']\n",
    "            saldo_full-=json_body['valor']\n",
    "            if saldo_full < 0:\n",
    "                continue\n",
    "\n",
    "            cliente_atual['saldo'] -= json_body['valor']\n",
    "       \n",
    "        caminho_resposta = f'{caminho}/resposta.json'\n",
    "        \n",
    "        with open(caminho_resposta,'r') as arq:\n",
    "            resposta = load(arq)\n",
    "   \n",
    "        if not resposta.get('json_body'):\n",
    "            raise Exception(\"aaaaaaaaaaa\")\n",
    "        \n",
    "       \n",
    "        #print(\n",
    "        #    f'item: {item} =>' +\n",
    "        #    f'cliente: {id_cliente} => '+\n",
    "        #    f'saldo =>{cliente_atual[\"saldo\"]}'\n",
    "        #    )\n",
    "     "
   ]
  },
  {
   "cell_type": "code",
   "execution_count": 18,
   "metadata": {},
   "outputs": [
    {
     "data": {
      "text/plain": [
       "{'1': {'saldo': 0, 'limite': 100000},\n",
       " '2': {'saldo': 0, 'limite': 80000},\n",
       " '3': {'saldo': 0, 'limite': 1000000},\n",
       " '4': {'saldo': 0, 'limite': 10000000},\n",
       " '5': {'saldo': 0, 'limite': 500000}}"
      ]
     },
     "execution_count": 18,
     "metadata": {},
     "output_type": "execute_result"
    }
   ],
   "source": [
    "clientes"
   ]
  }
 ],
 "metadata": {
  "kernelspec": {
   "display_name": "Python 3",
   "language": "python",
   "name": "python3"
  },
  "language_info": {
   "codemirror_mode": {
    "name": "ipython",
    "version": 3
   },
   "file_extension": ".py",
   "mimetype": "text/x-python",
   "name": "python",
   "nbconvert_exporter": "python",
   "pygments_lexer": "ipython3",
   "version": "3.6.8"
  }
 },
 "nbformat": 4,
 "nbformat_minor": 2
}
