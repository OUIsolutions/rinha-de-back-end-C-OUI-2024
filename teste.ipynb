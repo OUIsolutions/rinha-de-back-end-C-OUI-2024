{
 "cells": [
  {
   "cell_type": "code",
   "execution_count": 22,
   "metadata": {},
   "outputs": [],
   "source": [
    "from os import listdir\n",
    "from os.path import isfile\n",
    "from json import load\n",
    "from shutil import rmtree\n",
    "from shutil import copytree\n",
    "from os import makedirs"
   ]
  },
  {
   "cell_type": "code",
   "execution_count": 23,
   "metadata": {},
   "outputs": [],
   "source": [
    "PASTA = \"requisicoes\"    \n",
    "ORDEM_DA_LUZ = 'ordem_da_luz'"
   ]
  },
  {
   "cell_type": "code",
   "execution_count": 24,
   "metadata": {},
   "outputs": [
    {
     "name": "stdout",
     "output_type": "stream",
     "text": [
      "total:  7\n",
      "total respondidas:  7\n",
      "total sem responder 0\n"
     ]
    }
   ],
   "source": [
    "total_respondidas = 0\n",
    "total_sem_responder  = 0\n",
    "for item in listdir(PASTA):\n",
    "    caminho = f'{PASTA}/{item}'\n",
    "    caminho_resposta = f'{caminho}/resposta.json'\n",
    "    if isfile(caminho_resposta):\n",
    "        total_respondidas+=1\n",
    "    if not isfile(caminho_resposta):\n",
    "        print(\"sem responder em: \", item)\n",
    "        total_sem_responder+=1\n",
    "\n",
    "\n",
    "print(\"total: \", total_respondidas + total_sem_responder)\n",
    "print(\"total respondidas: \",total_respondidas)\n",
    "print(\"total sem responder\",total_sem_responder)\n"
   ]
  },
  {
   "cell_type": "code",
   "execution_count": 25,
   "metadata": {},
   "outputs": [],
   "source": [
    "clientes = {\n",
    "    \"1\":{\n",
    "        \"saldo\":0,\n",
    "        \"limite\":100000,\n",
    "    },\n",
    "    \"2\":{\n",
    "        \"saldo\":0,\n",
    "        \"limite\":80000\n",
    "    },\n",
    "    \"3\":{\n",
    "        \"saldo\":0,\n",
    "        \"limite\":1000000\n",
    "    },\n",
    "    \"4\":{\n",
    "        \"saldo\":0,\n",
    "        \"limite\":10000000\n",
    "    },\n",
    "    \"5\":{\n",
    "        \"saldo\":0,\n",
    "        \"limite\":500000\n",
    "    }\n",
    "}\n",
    "ids = clientes.keys()"
   ]
  },
  {
   "cell_type": "markdown",
   "metadata": {},
   "source": [
    "Organizando a ordem\n"
   ]
  },
  {
   "cell_type": "code",
   "execution_count": 26,
   "metadata": {},
   "outputs": [],
   "source": [
    "rmtree(ORDEM_DA_LUZ,ignore_errors=True)\n",
    "makedirs(ORDEM_DA_LUZ)\n",
    "\n",
    "listagem = listdir(PASTA)\n",
    "for item in listagem:\n",
    "    caminho = f'{PASTA}/{item}'\n",
    "    caminho_resposta = f'{caminho}/resposta.json'\n",
    "    if not isfile(caminho_resposta):\n",
    "        continue\n",
    "\n",
    "    with open(caminho_resposta,'r') as arq:\n",
    "        respostas = load(arq)\n",
    "\n",
    "    if not respostas.get('luz_adiquirida'):\n",
    "        continue\n",
    "\n",
    "    start = f'{respostas[\"luz_adiquirida\"][\"segundos\"]}:{respostas[\"luz_adiquirida\"][\"nanosegundos\"]}'\n",
    "\n",
    "    end = ''\n",
    "    if respostas.get('luz_liberada'):\n",
    "        end = f'{respostas[\"luz_liberada\"][\"segundos\"]}:{respostas[\"luz_liberada\"][\"nanosegundos\"]}'\n",
    "        \n",
    "    novo_caminho =  f'{ORDEM_DA_LUZ}/{start}=>{end}|{item}'\n",
    "    copytree(caminho,novo_caminho)\n",
    "\n",
    "        \n",
    "\n"
   ]
  },
  {
   "cell_type": "code",
   "execution_count": 27,
   "metadata": {},
   "outputs": [],
   "source": [
    "listagem = listdir(ORDEM_DA_LUZ)\n",
    "listagem.sort()\n",
    "\n",
    "for item in listagem:\n",
    "\n",
    "    caminho = f'{ORDEM_DA_LUZ}/{item}'\n",
    "    caminho_request = f'{caminho}/request.json'\n",
    "    with open(caminho_request,'r') as arq:\n",
    "        request = load(arq)\n",
    "    \n",
    "    caminho_resposta = f'{caminho}/resposta.json'\n",
    "    if not isfile(caminho_resposta):\n",
    "        raise Exception('aaaaaaa')\n",
    "    \n",
    "    rota:str = request['rota']\n",
    "\n",
    "    rota_dividida = rota.split('/')\n",
    "    id_cliente = rota_dividida[2]\n",
    "    if id_cliente not in ids:\n",
    "        raise Exception(\"aaaaaaaa\")\n",
    "    \n",
    "    cliente_atual = clientes[id_cliente]\n",
    "    \n",
    "    tipo_rota = rota_dividida[3]\n",
    "    if tipo_rota != 'transacoes':\n",
    "        continue\n",
    "\n",
    "    json_body = request['json_body']\n",
    "\n",
    "    if json_body['valor'] < 0:\n",
    "        raise  Exception(\"não deveria passar inteiros negativos\")\n",
    "\n",
    "    if json_body['valor'].__class__ != int:\n",
    "        raise  Exception(\"não deveria passar qualquer tipo de valor nã inteiro\")\n",
    "\n",
    "    if  not json_body.get('descricao'):\n",
    "        raise Exception(\"nãp ha descricao\")\n",
    "\n",
    "\n",
    "    if len(json_body['descricao']) == 0 or len(json_body['descricao'])> 10:\n",
    "        raise Exception(\"descrição com valores inválidos\")\n",
    "\n",
    "\n",
    "    if json_body['tipo'] == 'c':\n",
    "        cliente_atual['saldo'] += json_body['valor']\n",
    "\n",
    "    \n",
    "    if json_body['tipo'] == 'd':\n",
    "        saldo_e_limite = cliente_atual['saldo'] + cliente_atual['limite']\n",
    "        if saldo_e_limite - json_body['valor'] < 0:\n",
    "            continue\n",
    "        cliente_atual['saldo'] -= json_body['valor']\n",
    "\n",
    "\n",
    "    caminho_resposta = f'{caminho}/resposta.json'\n",
    "    with open(caminho_resposta,'r') as arq:\n",
    "        resposta = load(arq)\n",
    "\n",
    "    if resposta['json_body']['saldo'] != cliente_atual['saldo']:\n",
    "        raise Exception('quebrou em ',item)\n",
    "    "
   ]
  },
  {
   "cell_type": "code",
   "execution_count": 28,
   "metadata": {},
   "outputs": [
    {
     "data": {
      "text/plain": [
       "{'1': {'saldo': 0, 'limite': 100000},\n",
       " '2': {'saldo': 0, 'limite': 80000},\n",
       " '3': {'saldo': 0, 'limite': 1000000},\n",
       " '4': {'saldo': 0, 'limite': 10000000},\n",
       " '5': {'saldo': 0, 'limite': 500000}}"
      ]
     },
     "execution_count": 28,
     "metadata": {},
     "output_type": "execute_result"
    }
   ],
   "source": [
    "clientes"
   ]
  }
 ],
 "metadata": {
  "kernelspec": {
   "display_name": "Python 3",
   "language": "python",
   "name": "python3"
  },
  "language_info": {
   "codemirror_mode": {
    "name": "ipython",
    "version": 3
   },
   "file_extension": ".py",
   "mimetype": "text/x-python",
   "name": "python",
   "nbconvert_exporter": "python",
   "pygments_lexer": "ipython3",
   "version": "3.6.8"
  }
 },
 "nbformat": 4,
 "nbformat_minor": 2
}
