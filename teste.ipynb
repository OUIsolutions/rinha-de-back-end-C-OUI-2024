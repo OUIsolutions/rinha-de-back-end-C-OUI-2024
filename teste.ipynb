{
 "cells": [
  {
   "cell_type": "code",
   "execution_count": 13,
   "metadata": {},
   "outputs": [],
   "source": [
    "from os import listdir\n",
    "from os.path import isfile\n",
    "from json import load\n",
    "from shutil import rmtree\n",
    "from shutil import copytree\n",
    "from os import makedirs"
   ]
  },
  {
   "cell_type": "code",
   "execution_count": 14,
   "metadata": {},
   "outputs": [],
   "source": [
    "PASTA = \"requisicoes\"    \n",
    "ORDEM_DA_LUZ = 'ordem_da_luz'"
   ]
  },
  {
   "cell_type": "code",
   "execution_count": 15,
   "metadata": {},
   "outputs": [
    {
     "name": "stdout",
     "output_type": "stream",
     "text": [
      "duracao mínima 0.0006759166717529297\n",
      "duracao máxima 0.0009989738464355469\n",
      "media 0.0008195241292317709\n",
      "total:  6\n",
      "total respondidas:  6\n",
      "total sem responder 0\n"
     ]
    }
   ],
   "source": [
    "total_respondidas = 0\n",
    "total_sem_responder  = 0\n",
    "duracoes = []\n",
    "for item in listdir(PASTA):\n",
    "    caminho = f'{PASTA}/{item}'\n",
    "    caminho_resposta = f'{caminho}/resposta.json'\n",
    "    caminho_meta = f'{caminho}/meta.json'\n",
    "\n",
    "    if not isfile(caminho_resposta):\n",
    "        print(\"sem responder em: \", item)\n",
    "        total_sem_responder+=1\n",
    "        continue\n",
    "\n",
    "    total_respondidas+=1\n",
    "\n",
    "    with open(caminho_meta,'r') as arq:\n",
    "        meta = load(arq)\n",
    "    \n",
    "    inicio = meta['inicio']\n",
    "    inicio = float(f'{inicio[\"segundos\"]}.{inicio[\"nanosegundos\"]}')\n",
    "    fim = meta['fim']\n",
    "    fim = float(f'{fim[\"segundos\"]}.{fim[\"nanosegundos\"]}')\n",
    "    duracao = fim - inicio\n",
    "    duracoes.append(duracao)\n",
    "\n",
    "print('duracao mínima',min(duracoes))\n",
    "print('duracao máxima',max(duracoes))\n",
    "print('media',sum(duracoes) /len(duracoes))\n",
    "print(\"total: \", total_respondidas + total_sem_responder)\n",
    "print(\"total respondidas: \",total_respondidas)\n",
    "print(\"total sem responder\",total_sem_responder)\n"
   ]
  }
 ],
 "metadata": {
  "kernelspec": {
   "display_name": "Python 3",
   "language": "python",
   "name": "python3"
  },
  "language_info": {
   "codemirror_mode": {
    "name": "ipython",
    "version": 3
   },
   "file_extension": ".py",
   "mimetype": "text/x-python",
   "name": "python",
   "nbconvert_exporter": "python",
   "pygments_lexer": "ipython3",
   "version": "3.6.8"
  }
 },
 "nbformat": 4,
 "nbformat_minor": 2
}
