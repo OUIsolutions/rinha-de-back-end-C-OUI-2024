{
 "cells": [
  {
   "cell_type": "code",
   "execution_count": 34,
   "metadata": {},
   "outputs": [],
   "source": [
    "from os import listdir\n",
    "from os.path import isfile\n",
    "from json import load"
   ]
  },
  {
   "cell_type": "code",
   "execution_count": 35,
   "metadata": {},
   "outputs": [],
   "source": [
    "pasta = \"requisicoes\"    "
   ]
  },
  {
   "cell_type": "code",
   "execution_count": 36,
   "metadata": {},
   "outputs": [
    {
     "name": "stdout",
     "output_type": "stream",
     "text": [
      "total:  26855\n",
      "total respondidas:  26855\n",
      "total sem responder 0\n"
     ]
    }
   ],
   "source": [
    "total_respondidas = 0\n",
    "total_sem_responder  = 0\n",
    "for item in listdir(pasta):\n",
    "    caminho = f'{pasta}/{item}'\n",
    "    caminho_resposta = f'{caminho}/resposta.json'\n",
    "    if isfile(caminho_resposta):\n",
    "        total_respondidas+=1\n",
    "    if not isfile(caminho_resposta):\n",
    "        print(\"sem responder em: \", item)\n",
    "        total_sem_responder+=1\n",
    "\n",
    "\n",
    "print(\"total: \", total_respondidas + total_sem_responder)\n",
    "print(\"total respondidas: \",total_respondidas)\n",
    "print(\"total sem responder\",total_sem_responder)\n"
   ]
  },
  {
   "cell_type": "code",
   "execution_count": 37,
   "metadata": {},
   "outputs": [],
   "source": [
    "clientes = {\n",
    "    \"1\":{\n",
    "        \"saldo\":0,\n",
    "        \"limite\":100000,\n",
    "    },\n",
    "    \"2\":{\n",
    "        \"saldo\":0,\n",
    "        \"limite\":80000\n",
    "    },\n",
    "    \"3\":{\n",
    "        \"saldo\":0,\n",
    "        \"limite\":1000000\n",
    "    },\n",
    "    \"4\":{\n",
    "        \"saldo\":0,\n",
    "        \"limite\":10000000\n",
    "    },\n",
    "    \"5\":{\n",
    "        \"saldo\":0,\n",
    "        \"limite\":500000\n",
    "    }\n",
    "}\n",
    "ids = clientes.keys()"
   ]
  },
  {
   "cell_type": "code",
   "execution_count": 38,
   "metadata": {},
   "outputs": [],
   "source": [
    "listagem = listdir(pasta)\n",
    "\n",
    "for item in listagem:\n",
    "    caminho = f'{pasta}/{item}'\n",
    "    caminho_request = f'{caminho}/request.json'\n",
    "    with open(caminho_request,'r') as arq:\n",
    "        request = load(arq)\n",
    "    \n",
    "    caminho_resposta = f'{caminho}/resposta.json'\n",
    "    if not isfile(caminho_resposta):\n",
    "        continue\n",
    "    \n",
    "    try:\n",
    "        rota:str = request['rota']\n",
    "\n",
    "        rota_dividida = rota.split('/')\n",
    "        id_cliente = rota_dividida[2]\n",
    "        if id_cliente not in ids:\n",
    "            continue\n",
    "        cliente_atual = clientes[id_cliente]\n",
    "        \n",
    "        tipo_rota = rota_dividida[3]\n",
    "        if tipo_rota != 'transacoes':\n",
    "            continue\n",
    "\n",
    "        json_body = request['json_body']\n",
    "        if json_body['valor'].__class__ == float:\n",
    "            continue\n",
    "\n",
    "        if json_body['valor'] < 0:\n",
    "            raise  Exception(\"invalido\")\n",
    "\n",
    "        if json_body['valor'].__class__ != int:\n",
    "            raise  Exception(\"invalido\")\n",
    "\n",
    "        if  not json_body.get('descricao'):\n",
    "            continue\n",
    "\n",
    "        if len(json_body['descricao']) == 0 or len(json_body['descricao'])> 10:\n",
    "                    continue\n",
    "\n",
    "\n",
    "        if json_body['tipo'] == 'c':\n",
    "            cliente_atual['saldo'] += json_body['valor']\n",
    "\n",
    "        \n",
    "        if json_body['tipo'] == 'd':\n",
    "            saldo_e_limite = cliente_atual['saldo'] + cliente_atual['limite']\n",
    "            if saldo_e_limite - json_body['valor'] < 0:\n",
    "                #print ('invalida : ',item)\n",
    "                continue\n",
    "            cliente_atual['saldo'] -= json_body['valor']\n",
    "\n",
    "        caminho_resposta = f'{caminho}/resposta.json'\n",
    "        with open(caminho_resposta,'r') as arq:\n",
    "            resposta = load(arq)\n",
    "    except Exception as e:\n",
    "        print('item', item)\n",
    "        raise e"
   ]
  },
  {
   "cell_type": "code",
   "execution_count": 39,
   "metadata": {},
   "outputs": [
    {
     "data": {
      "text/plain": [
       "{'1': {'saldo': -72989.2, 'limite': 100000},\n",
       " '2': {'saldo': -42998.2, 'limite': 80000},\n",
       " '3': {'saldo': -986561.2, 'limite': 1000000},\n",
       " '4': {'saldo': -9989752.2, 'limite': 10000000},\n",
       " '5': {'saldo': -494828.2, 'limite': 500000}}"
      ]
     },
     "execution_count": 39,
     "metadata": {},
     "output_type": "execute_result"
    }
   ],
   "source": [
    "clientes"
   ]
  }
 ],
 "metadata": {
  "kernelspec": {
   "display_name": "Python 3",
   "language": "python",
   "name": "python3"
  },
  "language_info": {
   "codemirror_mode": {
    "name": "ipython",
    "version": 3
   },
   "file_extension": ".py",
   "mimetype": "text/x-python",
   "name": "python",
   "nbconvert_exporter": "python",
   "pygments_lexer": "ipython3",
   "version": "3.6.8"
  }
 },
 "nbformat": 4,
 "nbformat_minor": 2
}
