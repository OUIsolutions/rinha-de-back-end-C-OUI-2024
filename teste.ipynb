{
 "cells": [
  {
   "cell_type": "code",
   "execution_count": 88,
   "metadata": {},
   "outputs": [],
   "source": [
    "from os import listdir\n",
    "from os.path import isfile\n",
    "from json import load"
   ]
  },
  {
   "cell_type": "code",
   "execution_count": 89,
   "metadata": {},
   "outputs": [],
   "source": [
    "pasta = \"requisicoes\"    "
   ]
  },
  {
   "cell_type": "code",
   "execution_count": 90,
   "metadata": {},
   "outputs": [
    {
     "name": "stdout",
     "output_type": "stream",
     "text": [
      "total:  5\n",
      "total respondidas:  5\n",
      "total sem responder 0\n"
     ]
    }
   ],
   "source": [
    "total_respondidas = 0\n",
    "total_sem_responder  = 0\n",
    "for item in listdir(pasta):\n",
    "    caminho = f'{pasta}/{item}'\n",
    "    caminho_resposta = f'{caminho}/resposta.json'\n",
    "    if isfile(caminho_resposta):\n",
    "        total_respondidas+=1\n",
    "    if not isfile(caminho_resposta):\n",
    "        print(\"sem responder em: \", item)\n",
    "        total_sem_responder+=1\n",
    "\n",
    "\n",
    "print(\"total: \", total_respondidas + total_sem_responder)\n",
    "print(\"total respondidas: \",total_respondidas)\n",
    "print(\"total sem responder\",total_sem_responder)\n"
   ]
  },
  {
   "cell_type": "code",
   "execution_count": 91,
   "metadata": {},
   "outputs": [],
   "source": [
    "clientes = {\n",
    "    \"1\":{\n",
    "        \"saldo\":0,\n",
    "        \"limite\":100000,\n",
    "    },\n",
    "    \"2\":{\n",
    "        \"saldo\":0,\n",
    "        \"limite\":80000\n",
    "    },\n",
    "    \"3\":{\n",
    "        \"saldo\":0,\n",
    "        \"limite\":1000000\n",
    "    },\n",
    "    \"4\":{\n",
    "        \"saldo\":0,\n",
    "        \"limite\":10000000\n",
    "    },\n",
    "    \"5\":{\n",
    "        \"saldo\":0,\n",
    "        \"limite\":500000\n",
    "    }\n",
    "}\n",
    "ids = clientes.keys()"
   ]
  },
  {
   "cell_type": "code",
   "execution_count": 92,
   "metadata": {},
   "outputs": [],
   "source": [
    "for item in listdir(pasta):\n",
    "    caminho = f'{pasta}/{item}'\n",
    "    caminho_request = f'{caminho}/request.json'\n",
    "    with open(caminho_request,'r') as arq:\n",
    "        request = load(arq)\n",
    "    \n",
    "    rota:str = request['rota']\n",
    "\n",
    "    rota_dividida = rota.split('/')\n",
    "    id_cliente = rota_dividida[2]\n",
    "    if id_cliente not in ids:\n",
    "        continue\n",
    "    cliente_atual = clientes[id_cliente]\n",
    "    \n",
    "    tipo_rota = rota_dividida[3]\n",
    "    if tipo_rota != 'transacoes':\n",
    "        continue\n",
    "\n",
    "    json_body = request['json_body']\n",
    "    if json_body['tipo'] == 'c':\n",
    "        cliente_atual['saldo'] += json_body['valor']\n",
    "\n",
    "    \n",
    "    if json_body['tipo'] == 'd':\n",
    "        saldo_e_limite = cliente_atual['saldo'] + cliente_atual['limite']\n",
    "        if saldo_e_limite - json_body['valor'] < 0:\n",
    "            print ('invalida : ',item)\n",
    "            continue\n",
    "        cliente_atual['saldo'] -= json_body['valor']\n",
    "\n",
    "    #aqui so temos transacoes\n",
    "    "
   ]
  },
  {
   "cell_type": "code",
   "execution_count": 93,
   "metadata": {},
   "outputs": [
    {
     "data": {
      "text/plain": [
       "{'1': {'saldo': -100000, 'limite': 100000},\n",
       " '2': {'saldo': 0, 'limite': 80000},\n",
       " '3': {'saldo': 0, 'limite': 1000000},\n",
       " '4': {'saldo': 0, 'limite': 10000000},\n",
       " '5': {'saldo': 0, 'limite': 500000}}"
      ]
     },
     "execution_count": 93,
     "metadata": {},
     "output_type": "execute_result"
    }
   ],
   "source": [
    "clientes"
   ]
  }
 ],
 "metadata": {
  "kernelspec": {
   "display_name": "Python 3",
   "language": "python",
   "name": "python3"
  },
  "language_info": {
   "codemirror_mode": {
    "name": "ipython",
    "version": 3
   },
   "file_extension": ".py",
   "mimetype": "text/x-python",
   "name": "python",
   "nbconvert_exporter": "python",
   "pygments_lexer": "ipython3",
   "version": "3.6.8"
  }
 },
 "nbformat": 4,
 "nbformat_minor": 2
}
